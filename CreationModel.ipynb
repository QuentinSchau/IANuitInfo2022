{
 "cells": [
  {
   "cell_type": "markdown",
   "id": "bf7e556e",
   "metadata": {},
   "source": [
    "### création d'un set pour pouvoir vérifier le fonctionnement du MLP"
   ]
  },
  {
   "cell_type": "code",
   "execution_count": 107,
   "id": "f7c4e9ea",
   "metadata": {},
   "outputs": [],
   "source": [
    "import numpy as np\n",
    "from torch.utils.data import Dataset\n",
    "import torch\n",
    "import torch.nn.functional as F\n",
    "import time\n",
    "import os \n",
    "from torch.utils.data import DataLoader"
   ]
  },
  {
   "cell_type": "code",
   "execution_count": 108,
   "id": "30548dc9",
   "metadata": {},
   "outputs": [],
   "source": [
    "# class qui implémente le dataset de pytorch\n",
    "class IstDataset(Dataset):\n",
    "\n",
    "    def __init__(self, csv_path, transform=None):\n",
    "        # On a num_features colonnes plus la colonne avec le label associé aux features et l'identifiant\n",
    "        # On ne prend pas l'identifiant \n",
    "        data = np.loadtxt(csv_path,np.float32,delimiter=\";\", usecols=range(1,num_features+2))\n",
    "        self.data = data\n",
    "        self.csv_path = csv_path\n",
    "        self.transform = transform\n",
    "\n",
    "    def __getitem__(self, index):\n",
    "        # le label est à la fin de la ligne dans le fichier\n",
    "        features = torch.from_numpy(self.data[index][:-1])        \n",
    "        if self.transform is not None:\n",
    "            features = self.transform(features)\n",
    "        label = self.data[index][-1]\n",
    "        return features, int(label)\n",
    "\n",
    "    def __len__(self):\n",
    "        return self.data.shape[0]"
   ]
  },
  {
   "cell_type": "code",
   "execution_count": 109,
   "id": "98d31209",
   "metadata": {},
   "outputs": [],
   "source": [
    "##########################\n",
    "### SETTINGS\n",
    "##########################\n",
    "\n",
    "# Device\n",
    "device = torch.device(\"cuda:0\" if torch.cuda.is_available() else \"cpu\")\n",
    "\n",
    "# Hyperparameters\n",
    "learning_rate = 0.1\n",
    "num_epochs = 10\n",
    "batch_size = 4\n",
    "\n",
    "# Architecture\n",
    "num_features = 26\n",
    "num_hidden_1 = 50\n",
    "num_hidden_2 = 50\n",
    "num_hidden_3 = 50\n",
    "num_hidden_4 = 25\n",
    "num_classes = 2\n"
   ]
  },
  {
   "cell_type": "code",
   "execution_count": 110,
   "id": "f55a5582",
   "metadata": {},
   "outputs": [],
   "source": [
    "def normalize(data):\n",
    "    std,mean = torch.std_mean(data)\n",
    "    return (data - mean)/std"
   ]
  },
  {
   "cell_type": "code",
   "execution_count": 121,
   "id": "3d1968e5",
   "metadata": {},
   "outputs": [],
   "source": [
    "class MultilayerPerceptron(torch.nn.Module):\n",
    "\n",
    "    def __init__(self, num_features, num_classes,num_hidden_1,num_hidden_2,num_hidden_3,num_hidden_4):\n",
    "        super(MultilayerPerceptron, self).__init__()\n",
    "        \n",
    "        ### 1er couche cache\n",
    "        self.linear_1 = torch.nn.Linear(num_features, num_hidden_1)\n",
    "            \n",
    "        ### 2eme couche\n",
    "        self.linear_2 = torch.nn.Linear(num_hidden_1, num_hidden_2)\n",
    "        \n",
    "        ### 3eme couche\n",
    "        self.linear_3 = torch.nn.Linear(num_hidden_2, num_hidden_3)\n",
    "        \n",
    "        ### 3eme couche\n",
    "        self.linear_4 = torch.nn.Linear(num_hidden_3, num_hidden_4)\n",
    "        \n",
    "        ### Output layer\n",
    "        self.linear_out = torch.nn.Linear(num_hidden_4, num_classes)\n",
    "        \n",
    "    def forward(self, x):\n",
    "        out = self.linear_1(x)\n",
    "        out = F.relu(out)\n",
    "        out = self.linear_2(out)\n",
    "        out = F.relu(out)\n",
    "        out = self.linear_3(out)\n",
    "        out = F.relu(out)\n",
    "        out = self.linear_4(out)\n",
    "        out = F.relu(out)\n",
    "        logits = self.linear_out(out)\n",
    "        probas = F.softmax(logits, dim=1)\n",
    "        return logits, probas\n",
    "\n",
    "    \n",
    "model = MultilayerPerceptron(num_features=num_features,\n",
    "                             num_classes=num_classes,\n",
    "                            num_hidden_1=num_hidden_1,\n",
    "                            num_hidden_2=num_hidden_2,\n",
    "                            num_hidden_3=num_hidden_3,\n",
    "                            num_hidden_4=num_hidden_4)\n",
    "\n",
    "model = model.to(device)\n",
    "\n",
    "optimizer = torch.optim.Adam(model.parameters(), lr=learning_rate) "
   ]
  },
  {
   "cell_type": "code",
   "execution_count": 122,
   "id": "24d69b4c",
   "metadata": {},
   "outputs": [],
   "source": [
    "def compute_accuracy(net, data_loader):\n",
    "    net.eval()\n",
    "    correct_pred, num_examples = 0, 0\n",
    "    with torch.no_grad():\n",
    "        for features, targets in data_loader:\n",
    "            features = features.to(device)\n",
    "            targets = targets.to(device)\n",
    "            logits, probas = net(features)\n",
    "            _, predicted_labels = torch.max(probas, 1)\n",
    "            num_examples += targets.size(0)\n",
    "            correct_pred += (predicted_labels == targets).sum()\n",
    "        return correct_pred.float()/num_examples * 100\n",
    "    "
   ]
  },
  {
   "cell_type": "code",
   "execution_count": 123,
   "id": "ae28477f",
   "metadata": {},
   "outputs": [],
   "source": [
    "train_dataset = IstDataset(csv_path=\"dataset.csv\",transform=normalize)\n",
    "train_loader = DataLoader(dataset=train_dataset,batch_size=batch_size,shuffle=True)"
   ]
  },
  {
   "cell_type": "code",
   "execution_count": 126,
   "id": "a05e096b",
   "metadata": {},
   "outputs": [
    {
     "name": "stdout",
     "output_type": "stream",
     "text": [
      "Epoch: 001/010 | Batch 000/001 | Cost: 0.0395\n",
      "Epoch: 001/010 training accuracy: 100.00%\n",
      "temps passé: 0.00 min\n",
      "Epoch: 002/010 | Batch 000/001 | Cost: 0.0155\n",
      "Epoch: 002/010 training accuracy: 100.00%\n",
      "temps passé: 0.00 min\n",
      "Epoch: 003/010 | Batch 000/001 | Cost: 0.0055\n",
      "Epoch: 003/010 training accuracy: 100.00%\n",
      "temps passé: 0.00 min\n",
      "Epoch: 004/010 | Batch 000/001 | Cost: 0.0019\n",
      "Epoch: 004/010 training accuracy: 100.00%\n",
      "temps passé: 0.00 min\n",
      "Epoch: 005/010 | Batch 000/001 | Cost: 0.0008\n",
      "Epoch: 005/010 training accuracy: 100.00%\n",
      "temps passé: 0.00 min\n",
      "Epoch: 006/010 | Batch 000/001 | Cost: 0.0002\n",
      "Epoch: 006/010 training accuracy: 100.00%\n",
      "temps passé: 0.00 min\n",
      "Epoch: 007/010 | Batch 000/001 | Cost: 0.0000\n",
      "Epoch: 007/010 training accuracy: 100.00%\n",
      "temps passé: 0.00 min\n",
      "Epoch: 008/010 | Batch 000/001 | Cost: 0.0000\n",
      "Epoch: 008/010 training accuracy: 100.00%\n",
      "temps passé: 0.00 min\n",
      "Epoch: 009/010 | Batch 000/001 | Cost: 0.0000\n",
      "Epoch: 009/010 training accuracy: 100.00%\n",
      "temps passé: 0.00 min\n",
      "Epoch: 010/010 | Batch 000/001 | Cost: 0.0000\n",
      "Epoch: 010/010 training accuracy: 100.00%\n",
      "temps passé: 0.00 min\n",
      "Duree total de l'entrainement: 0.00 min\n",
      "Sauvegarde du modèle\n"
     ]
    }
   ],
   "source": [
    "\n",
    "\n",
    "start_time = time.time()\n",
    "for epoch in range(num_epochs):\n",
    "    model.train()\n",
    "    for batch_idx, (features, targets) in enumerate(train_loader):\n",
    "        \n",
    "        features = features.to(device)\n",
    "        targets = targets.to(device)\n",
    "        ### FORWARD AND BACK PROP\n",
    "        logits, probas = model(features)\n",
    "\n",
    "        #compute cost for retro-propa\n",
    "        cost = F.cross_entropy(logits, targets)\n",
    "        optimizer.zero_grad()\n",
    "\n",
    "        #retro\n",
    "        cost.backward()\n",
    "\n",
    "        ### UPDATE MODEL PARAMETERS\n",
    "        optimizer.step()\n",
    "            \n",
    "        \n",
    "        ### LOGGING\n",
    "        if not batch_idx % 50:\n",
    "            print ('Epoch: %03d/%03d | Batch %03d/%03d | Cost: %.4f' \n",
    "                   %(epoch+1, num_epochs, batch_idx, \n",
    "                     len(train_loader), cost))\n",
    "\n",
    "    with torch.set_grad_enabled(False):\n",
    "        print('Epoch: %03d/%03d training accuracy: %.2f%%' % (\n",
    "              epoch+1, num_epochs, \n",
    "              compute_accuracy(model, train_loader)))\n",
    "        \n",
    "    print('temps passé: %.2f min' % ((time.time() - start_time)/60))\n",
    "    \n",
    "print(\"Duree total de l'entrainement: %.2f min\" % ((time.time() - start_time)/60))\n",
    "\n",
    "print(\"Sauvegarde du modèle\")\n",
    "torch.save(model.state_dict(),os.path.join('Save_network', 'model'))"
   ]
  },
  {
   "cell_type": "code",
   "execution_count": 125,
   "id": "fae1b9bf",
   "metadata": {},
   "outputs": [
    {
     "data": {
      "text/plain": [
       "torch.Size([1, 26])"
      ]
     },
     "execution_count": 125,
     "metadata": {},
     "output_type": "execute_result"
    }
   ],
   "source": [
    "torch.from_numpy(np.array([[-0.5232, -0.5232, -0.5232, -0.5232, -0.5232, -0.5232, -0.5232, -0.5232,\n",
    "         -0.5232, -0.5232, -0.5232, -0.5232,  0.7135,  3.1869,  0.7135, -0.5232,\n",
    "          0.7135, -0.5232, -0.5232, -0.5232, -0.5232, -0.5232,  1.9502,  1.9502,\n",
    "          0.7135, -0.5232]])).shape"
   ]
  },
  {
   "cell_type": "code",
   "execution_count": null,
   "id": "425bb9ac",
   "metadata": {},
   "outputs": [],
   "source": []
  }
 ],
 "metadata": {
  "kernelspec": {
   "display_name": "Python 3 (ipykernel)",
   "language": "python",
   "name": "python3"
  },
  "language_info": {
   "codemirror_mode": {
    "name": "ipython",
    "version": 3
   },
   "file_extension": ".py",
   "mimetype": "text/x-python",
   "name": "python",
   "nbconvert_exporter": "python",
   "pygments_lexer": "ipython3",
   "version": "3.9.7"
  }
 },
 "nbformat": 4,
 "nbformat_minor": 5
}
